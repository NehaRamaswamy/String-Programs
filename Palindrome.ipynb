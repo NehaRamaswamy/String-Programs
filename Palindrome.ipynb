{
 "cells": [
  {
   "cell_type": "code",
   "execution_count": 2,
   "id": "2c195013",
   "metadata": {},
   "outputs": [
    {
     "name": "stdout",
     "output_type": "stream",
     "text": [
      "Palindrome\n"
     ]
    }
   ],
   "source": [
    "s = 'malayalam'\n",
    "\n",
    "if s==s[-1:-len(s)-1:-1]:\n",
    "    print('Palindrome')\n",
    "else:\n",
    "    print('Not Palindrome')"
   ]
  },
  {
   "cell_type": "code",
   "execution_count": 3,
   "id": "8714b8dd",
   "metadata": {},
   "outputs": [
    {
     "name": "stdout",
     "output_type": "stream",
     "text": [
      " dsna\n"
     ]
    }
   ],
   "source": [
    "# reverse string using negative index\n",
    "s='ansd'\n",
    "res = ' '\n",
    "for ind in range(-1,-len(s)-1,-1):\n",
    "    res += s[ind]\n",
    "print(res)"
   ]
  },
  {
   "cell_type": "code",
   "execution_count": 19,
   "id": "7e829712",
   "metadata": {},
   "outputs": [
    {
     "name": "stdout",
     "output_type": "stream",
     "text": [
      " dcba\n"
     ]
    }
   ],
   "source": [
    "s = 'abcd'\n",
    "ind = -1\n",
    "res = ' '\n",
    "while ind > -len(s) - 1:\n",
    "    res += s[ind]\n",
    "    ind -= 1\n",
    "print(res)"
   ]
  },
  {
   "cell_type": "code",
   "execution_count": null,
   "id": "f082b01b",
   "metadata": {},
   "outputs": [
    {
     "name": "stdout",
     "output_type": "stream",
     "text": [
      " dcba\n"
     ]
    }
   ],
   "source": [
    "# reverse a string using positive indexing\n",
    "\n",
    "s1 = 'abcd'\n",
    "rev = ' '\n",
    "for ind in range(len(s1)-1 ,-1,-1):\n",
    "    rev += s1[ind]\n",
    "print(rev)"
   ]
  },
  {
   "cell_type": "code",
   "execution_count": 26,
   "id": "00dd6e16",
   "metadata": {},
   "outputs": [
    {
     "name": "stdout",
     "output_type": "stream",
     "text": [
      "dcba\n"
     ]
    }
   ],
   "source": [
    "s1 = 'abcd'\n",
    "res = ''\n",
    "ind = len(s1) - 1\n",
    "while ind != -1:\n",
    "    res += s1[ind]\n",
    "    ind -= 1\n",
    "print(res)"
   ]
  },
  {
   "cell_type": "code",
   "execution_count": null,
   "id": "a97acb12",
   "metadata": {},
   "outputs": [],
   "source": []
  }
 ],
 "metadata": {
  "kernelspec": {
   "display_name": "base",
   "language": "python",
   "name": "python3"
  },
  "language_info": {
   "codemirror_mode": {
    "name": "ipython",
    "version": 3
   },
   "file_extension": ".py",
   "mimetype": "text/x-python",
   "name": "python",
   "nbconvert_exporter": "python",
   "pygments_lexer": "ipython3",
   "version": "3.13.5"
  }
 },
 "nbformat": 4,
 "nbformat_minor": 5
}
